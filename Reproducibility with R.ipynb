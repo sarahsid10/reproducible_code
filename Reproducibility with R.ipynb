{
 "cells": [
  {
   "cell_type": "markdown",
   "id": "ff9d3eb6",
   "metadata": {},
   "source": [
    "# Make your code reproducible\n",
    "#### (Prepared by Sarah Siddiqui, University of Rochester River Campus Libraries)\n",
    "### These tips are based on R but can be applied to other programming languages as well"
   ]
  },
  {
   "cell_type": "markdown",
   "id": "32eeef41",
   "metadata": {},
   "source": [
    "## Tip # 1\n",
    "##### Use meaningful variable names and include dependencies - packages and libraries\n",
    "##### Including comments is *always* recommended!"
   ]
  },
  {
   "cell_type": "code",
   "execution_count": 29,
   "id": "608883fd",
   "metadata": {},
   "outputs": [],
   "source": [
    "#install.packages(\"ggplot2\")\n",
    "#Add the packages installed as a comment, since it is done only once but helpful for other users"
   ]
  },
  {
   "cell_type": "code",
   "execution_count": 11,
   "id": "e7a2fea7",
   "metadata": {},
   "outputs": [
    {
     "name": "stderr",
     "output_type": "stream",
     "text": [
      "Registered S3 methods overwritten by 'ggplot2':\n",
      "  method         from \n",
      "  [.quosures     rlang\n",
      "  c.quosures     rlang\n",
      "  print.quosures rlang\n"
     ]
    }
   ],
   "source": [
    "library(ggplot2) "
   ]
  },
  {
   "cell_type": "code",
   "execution_count": 12,
   "id": "6fb06d19",
   "metadata": {},
   "outputs": [
    {
     "name": "stderr",
     "output_type": "stream",
     "text": [
      "Loading required package: lattice\n"
     ]
    }
   ],
   "source": [
    "library(caret) # why are you importing this? Where are you using this??"
   ]
  },
  {
   "cell_type": "code",
   "execution_count": 19,
   "id": "c2814810",
   "metadata": {},
   "outputs": [
    {
     "data": {
      "text/plain": [
       "R version 3.6.1 (2019-07-05)\n",
       "Platform: x86_64-w64-mingw32/x64 (64-bit)\n",
       "Running under: Windows 10 x64 (build 18362)\n",
       "\n",
       "Matrix products: default\n",
       "\n",
       "locale:\n",
       "[1] LC_COLLATE=English_United States.1252 \n",
       "[2] LC_CTYPE=English_United States.1252   \n",
       "[3] LC_MONETARY=English_United States.1252\n",
       "[4] LC_NUMERIC=C                          \n",
       "[5] LC_TIME=English_United States.1252    \n",
       "\n",
       "attached base packages:\n",
       "[1] stats     graphics  grDevices utils     datasets  methods   base     \n",
       "\n",
       "other attached packages:\n",
       "[1] caret_6.0-83    lattice_0.20-38 ggplot2_3.1.1  \n",
       "\n",
       "loaded via a namespace (and not attached):\n",
       " [1] pbdZMQ_0.3-3       tidyselect_0.2.5   repr_0.19.2        purrr_0.3.2       \n",
       " [5] reshape2_1.4.3     splines_3.6.1      colorspace_1.4-1   generics_0.0.2    \n",
       " [9] stats4_3.6.1       htmltools_0.3.6    base64enc_0.1-3    survival_2.44-1.1 \n",
       "[13] prodlim_2018.04.18 rlang_0.3.4        ModelMetrics_1.2.2 pillar_1.3.1      \n",
       "[17] glue_1.3.1         withr_2.1.2        uuid_0.1-2         foreach_1.4.4     \n",
       "[21] plyr_1.8.4         lava_1.6.5         stringr_1.4.0      timeDate_3043.102 \n",
       "[25] munsell_0.5.0      gtable_0.3.0       recipes_0.1.5      codetools_0.2-16  \n",
       "[29] evaluate_0.13      class_7.3-15       IRdisplay_0.7.0    Rcpp_1.0.1        \n",
       "[33] scales_1.0.0       IRkernel_0.8.15    ipred_0.9-8        jsonlite_1.6      \n",
       "[37] digest_0.6.18      stringi_1.4.3      dplyr_0.8.0.1      grid_3.6.1        \n",
       "[41] tools_3.6.1        magrittr_1.5       lazyeval_0.2.2     tibble_2.1.1      \n",
       "[45] crayon_1.3.4       pkgconfig_2.0.2    MASS_7.3-51.3      Matrix_1.2-17     \n",
       "[49] data.table_1.12.2  lubridate_1.7.4    gower_0.2.0        assertthat_0.2.1  \n",
       "[53] iterators_1.0.10   R6_2.4.0           rpart_4.1-15       nnet_7.3-12       \n",
       "[57] nlme_3.1-139       compiler_3.6.1    "
      ]
     },
     "metadata": {},
     "output_type": "display_data"
    }
   ],
   "source": [
    "sessionInfo() #save this information as some libraries may not work with all versions of R"
   ]
  },
  {
   "cell_type": "code",
   "execution_count": 22,
   "id": "5300fefe",
   "metadata": {},
   "outputs": [
    {
     "data": {
      "image/png": "[encoded data removed]",
      "text/plain": [
       "plot without title"
      ]
     },
     "metadata": {},
     "output_type": "display_data"
    }
   ],
   "source": [
    "data(cars)\n",
    "x<- cars$speed\n",
    "y<- cars$ dist\n",
    "ggplot(cars, aes(x=x, y=y))+geom_point(color=\"red\") + labs(title=\"Guess what this plot represents?\")\n"
   ]
  },
  {
   "cell_type": "code",
   "execution_count": 28,
   "id": "391b63ae",
   "metadata": {},
   "outputs": [
    {
     "data": {
      "image/png": "[encoded data removed]",
      "text/plain": [
       "plot without title"
      ]
     },
     "metadata": {},
     "output_type": "display_data"
    }
   ],
   "source": [
    "ggplot(cars, aes(x=speed, y=dist))+geom_point(color=\"purple\")+labs(x=\"Top Speed\", y=\"Stopping Distance\", title=\"Plot of Cars data in R\")+theme(plot.title = element_text(hjust = 0.5))"
   ]
  },
  {
   "cell_type": "markdown",
   "id": "19b4e04e",
   "metadata": {},
   "source": [
    "## Tip # 2\n",
    "##### Use relative file paths, not absolute"
   ]
  },
  {
   "cell_type": "code",
   "execution_count": 8,
   "id": "033f46c9",
   "metadata": {},
   "outputs": [
    {
     "name": "stderr",
     "output_type": "stream",
     "text": [
      "Warning message in file(file, \"rt\"):\n",
      "\"cannot open file 'C:\\Users\\AllegraT\\Desktop\\Reproducibility\\output.csv': No such file or directory\""
     ]
    },
    {
     "ename": "ERROR",
     "evalue": "Error in file(file, \"rt\"): cannot open the connection\n",
     "output_type": "error",
     "traceback": [
      "Error in file(file, \"rt\"): cannot open the connection\nTraceback:\n",
      "1. read.csv(\"C:\\\\Users\\\\AllegraT\\\\Desktop\\\\Reproducibility\\\\output.csv\")",
      "2. read.table(file = file, header = header, sep = sep, quote = quote, \n .     dec = dec, fill = fill, comment.char = comment.char, ...)",
      "3. file(file, \"rt\")"
     ]
    }
   ],
   "source": [
    "dataerr<-read.csv(\"C:\\\\Users\\\\AllegraT\\\\Desktop\\\\Reproducibility\\\\output.csv\") # This will not work for everyone!"
   ]
  },
  {
   "cell_type": "code",
   "execution_count": 14,
   "id": "b1446dee",
   "metadata": {},
   "outputs": [],
   "source": [
    "df<- read.csv(\"../Reproducibility/output.csv\") #will work as the Reproducbility folder can be shared"
   ]
  },
  {
   "cell_type": "markdown",
   "id": "8159740d",
   "metadata": {},
   "source": [
    "## Tip # 3\n",
    "##### Processing data"
   ]
  },
  {
   "cell_type": "markdown",
   "id": "575fecbc",
   "metadata": {},
   "source": [
    "###### Save any parameters used for modifying data, for example we're modifying a column in the iris dataset"
   ]
  },
  {
   "cell_type": "code",
   "execution_count": 3,
   "id": "77b6458a",
   "metadata": {},
   "outputs": [
    {
     "data": {
      "text/html": [
       "<table>\n",
       "<thead><tr><th scope=col>Sepal.Length</th><th scope=col>Sepal.Width</th><th scope=col>Petal.Length</th><th scope=col>Petal.Width</th><th scope=col>Species</th></tr></thead>\n",
       "<tbody>\n",
       "\t<tr><td>5.1   </td><td>3.5   </td><td>1.4   </td><td>0.2   </td><td>setosa</td></tr>\n",
       "\t<tr><td>4.9   </td><td>3.0   </td><td>1.4   </td><td>0.2   </td><td>setosa</td></tr>\n",
       "\t<tr><td>4.7   </td><td>3.2   </td><td>1.3   </td><td>0.2   </td><td>setosa</td></tr>\n",
       "\t<tr><td>4.6   </td><td>3.1   </td><td>1.5   </td><td>0.2   </td><td>setosa</td></tr>\n",
       "\t<tr><td>5.0   </td><td>3.6   </td><td>1.4   </td><td>0.2   </td><td>setosa</td></tr>\n",
       "\t<tr><td>5.4   </td><td>3.9   </td><td>1.7   </td><td>0.4   </td><td>setosa</td></tr>\n",
       "</tbody>\n",
       "</table>\n"
      ],
      "text/latex": [
       "\\begin{tabular}{r|lllll}\n",
       " Sepal.Length & Sepal.Width & Petal.Length & Petal.Width & Species\\\\\n",
       "\\hline\n",
       "\t 5.1    & 3.5    & 1.4    & 0.2    & setosa\\\\\n",
       "\t 4.9    & 3.0    & 1.4    & 0.2    & setosa\\\\\n",
       "\t 4.7    & 3.2    & 1.3    & 0.2    & setosa\\\\\n",
       "\t 4.6    & 3.1    & 1.5    & 0.2    & setosa\\\\\n",
       "\t 5.0    & 3.6    & 1.4    & 0.2    & setosa\\\\\n",
       "\t 5.4    & 3.9    & 1.7    & 0.4    & setosa\\\\\n",
       "\\end{tabular}\n"
      ],
      "text/markdown": [
       "\n",
       "| Sepal.Length | Sepal.Width | Petal.Length | Petal.Width | Species |\n",
       "|---|---|---|---|---|\n",
       "| 5.1    | 3.5    | 1.4    | 0.2    | setosa |\n",
       "| 4.9    | 3.0    | 1.4    | 0.2    | setosa |\n",
       "| 4.7    | 3.2    | 1.3    | 0.2    | setosa |\n",
       "| 4.6    | 3.1    | 1.5    | 0.2    | setosa |\n",
       "| 5.0    | 3.6    | 1.4    | 0.2    | setosa |\n",
       "| 5.4    | 3.9    | 1.7    | 0.4    | setosa |\n",
       "\n"
      ],
      "text/plain": [
       "  Sepal.Length Sepal.Width Petal.Length Petal.Width Species\n",
       "1 5.1          3.5         1.4          0.2         setosa \n",
       "2 4.9          3.0         1.4          0.2         setosa \n",
       "3 4.7          3.2         1.3          0.2         setosa \n",
       "4 4.6          3.1         1.5          0.2         setosa \n",
       "5 5.0          3.6         1.4          0.2         setosa \n",
       "6 5.4          3.9         1.7          0.4         setosa "
      ]
     },
     "metadata": {},
     "output_type": "display_data"
    }
   ],
   "source": [
    "data(iris)\n",
    "head(iris)"
   ]
  },
  {
   "cell_type": "code",
   "execution_count": 4,
   "id": "059ee409",
   "metadata": {},
   "outputs": [],
   "source": [
    "normalize <- function(x) {   \n",
    "return ((x - min(x)) / (max(x) - min(x)))\n",
    "}\n",
    "# Note: we'll talk about functions in a bit!"
   ]
  },
  {
   "cell_type": "code",
   "execution_count": 5,
   "id": "746fcfb5",
   "metadata": {},
   "outputs": [],
   "source": [
    "iris$Sepal.Length.norm <-normalize(iris$Sepal.Length)"
   ]
  },
  {
   "cell_type": "code",
   "execution_count": 10,
   "id": "49e84a61",
   "metadata": {},
   "outputs": [
    {
     "data": {
      "text/html": [
       "<ol class=list-inline>\n",
       "\t<li>0.222222222222222</li>\n",
       "\t<li>0.166666666666667</li>\n",
       "\t<li>0.111111111111111</li>\n",
       "\t<li>0.0833333333333333</li>\n",
       "\t<li>0.194444444444444</li>\n",
       "\t<li>0.305555555555556</li>\n",
       "</ol>\n"
      ],
      "text/latex": [
       "\\begin{enumerate*}\n",
       "\\item 0.222222222222222\n",
       "\\item 0.166666666666667\n",
       "\\item 0.111111111111111\n",
       "\\item 0.0833333333333333\n",
       "\\item 0.194444444444444\n",
       "\\item 0.305555555555556\n",
       "\\end{enumerate*}\n"
      ],
      "text/markdown": [
       "1. 0.222222222222222\n",
       "2. 0.166666666666667\n",
       "3. 0.111111111111111\n",
       "4. 0.0833333333333333\n",
       "5. 0.194444444444444\n",
       "6. 0.305555555555556\n",
       "\n",
       "\n"
      ],
      "text/plain": [
       "[1] 0.22222222 0.16666667 0.11111111 0.08333333 0.19444444 0.30555556"
      ]
     },
     "metadata": {},
     "output_type": "display_data"
    }
   ],
   "source": [
    "head(iris$Sepal.Length.norm)"
   ]
  },
  {
   "cell_type": "markdown",
   "id": "30c64228",
   "metadata": {},
   "source": [
    "##### It's also useful to export the modified data to a separate file for later. Here we are splitting the mtcars data into train and test sets"
   ]
  },
  {
   "cell_type": "code",
   "execution_count": 27,
   "id": "4c651af1",
   "metadata": {},
   "outputs": [],
   "source": [
    "data(\"mtcars\")"
   ]
  },
  {
   "cell_type": "code",
   "execution_count": 28,
   "id": "aacbd352",
   "metadata": {},
   "outputs": [
    {
     "data": {
      "text/html": [
       "<table>\n",
       "<thead><tr><th></th><th scope=col>mpg</th><th scope=col>cyl</th><th scope=col>disp</th><th scope=col>hp</th><th scope=col>drat</th><th scope=col>wt</th><th scope=col>qsec</th><th scope=col>vs</th><th scope=col>am</th><th scope=col>gear</th><th scope=col>carb</th></tr></thead>\n",
       "<tbody>\n",
       "\t<tr><th scope=row>Mazda RX4</th><td>21.0 </td><td>6    </td><td>160  </td><td>110  </td><td>3.90 </td><td>2.620</td><td>16.46</td><td>0    </td><td>1    </td><td>4    </td><td>4    </td></tr>\n",
       "\t<tr><th scope=row>Mazda RX4 Wag</th><td>21.0 </td><td>6    </td><td>160  </td><td>110  </td><td>3.90 </td><td>2.875</td><td>17.02</td><td>0    </td><td>1    </td><td>4    </td><td>4    </td></tr>\n",
       "\t<tr><th scope=row>Datsun 710</th><td>22.8 </td><td>4    </td><td>108  </td><td> 93  </td><td>3.85 </td><td>2.320</td><td>18.61</td><td>1    </td><td>1    </td><td>4    </td><td>1    </td></tr>\n",
       "\t<tr><th scope=row>Hornet 4 Drive</th><td>21.4 </td><td>6    </td><td>258  </td><td>110  </td><td>3.08 </td><td>3.215</td><td>19.44</td><td>1    </td><td>0    </td><td>3    </td><td>1    </td></tr>\n",
       "\t<tr><th scope=row>Hornet Sportabout</th><td>18.7 </td><td>8    </td><td>360  </td><td>175  </td><td>3.15 </td><td>3.440</td><td>17.02</td><td>0    </td><td>0    </td><td>3    </td><td>2    </td></tr>\n",
       "\t<tr><th scope=row>Valiant</th><td>18.1 </td><td>6    </td><td>225  </td><td>105  </td><td>2.76 </td><td>3.460</td><td>20.22</td><td>1    </td><td>0    </td><td>3    </td><td>1    </td></tr>\n",
       "</tbody>\n",
       "</table>\n"
      ],
      "text/latex": [
       "\\begin{tabular}{r|lllllllllll}\n",
       "  & mpg & cyl & disp & hp & drat & wt & qsec & vs & am & gear & carb\\\\\n",
       "\\hline\n",
       "\tMazda RX4 & 21.0  & 6     & 160   & 110   & 3.90  & 2.620 & 16.46 & 0     & 1     & 4     & 4    \\\\\n",
       "\tMazda RX4 Wag & 21.0  & 6     & 160   & 110   & 3.90  & 2.875 & 17.02 & 0     & 1     & 4     & 4    \\\\\n",
       "\tDatsun 710 & 22.8  & 4     & 108   &  93   & 3.85  & 2.320 & 18.61 & 1     & 1     & 4     & 1    \\\\\n",
       "\tHornet 4 Drive & 21.4  & 6     & 258   & 110   & 3.08  & 3.215 & 19.44 & 1     & 0     & 3     & 1    \\\\\n",
       "\tHornet Sportabout & 18.7  & 8     & 360   & 175   & 3.15  & 3.440 & 17.02 & 0     & 0     & 3     & 2    \\\\\n",
       "\tValiant & 18.1  & 6     & 225   & 105   & 2.76  & 3.460 & 20.22 & 1     & 0     & 3     & 1    \\\\\n",
       "\\end{tabular}\n"
      ],
      "text/markdown": [
       "\n",
       "| <!--/--> | mpg | cyl | disp | hp | drat | wt | qsec | vs | am | gear | carb |\n",
       "|---|---|---|---|---|---|---|---|---|---|---|---|\n",
       "| Mazda RX4 | 21.0  | 6     | 160   | 110   | 3.90  | 2.620 | 16.46 | 0     | 1     | 4     | 4     |\n",
       "| Mazda RX4 Wag | 21.0  | 6     | 160   | 110   | 3.90  | 2.875 | 17.02 | 0     | 1     | 4     | 4     |\n",
       "| Datsun 710 | 22.8  | 4     | 108   |  93   | 3.85  | 2.320 | 18.61 | 1     | 1     | 4     | 1     |\n",
       "| Hornet 4 Drive | 21.4  | 6     | 258   | 110   | 3.08  | 3.215 | 19.44 | 1     | 0     | 3     | 1     |\n",
       "| Hornet Sportabout | 18.7  | 8     | 360   | 175   | 3.15  | 3.440 | 17.02 | 0     | 0     | 3     | 2     |\n",
       "| Valiant | 18.1  | 6     | 225   | 105   | 2.76  | 3.460 | 20.22 | 1     | 0     | 3     | 1     |\n",
       "\n"
      ],
      "text/plain": [
       "                  mpg  cyl disp hp  drat wt    qsec  vs am gear carb\n",
       "Mazda RX4         21.0 6   160  110 3.90 2.620 16.46 0  1  4    4   \n",
       "Mazda RX4 Wag     21.0 6   160  110 3.90 2.875 17.02 0  1  4    4   \n",
       "Datsun 710        22.8 4   108   93 3.85 2.320 18.61 1  1  4    1   \n",
       "Hornet 4 Drive    21.4 6   258  110 3.08 3.215 19.44 1  0  3    1   \n",
       "Hornet Sportabout 18.7 8   360  175 3.15 3.440 17.02 0  0  3    2   \n",
       "Valiant           18.1 6   225  105 2.76 3.460 20.22 1  0  3    1   "
      ]
     },
     "metadata": {},
     "output_type": "display_data"
    }
   ],
   "source": [
    "head(mtcars)"
   ]
  },
  {
   "cell_type": "code",
   "execution_count": 31,
   "id": "f1dfd866",
   "metadata": {},
   "outputs": [
    {
     "data": {
      "text/html": [
       "32"
      ],
      "text/latex": [
       "32"
      ],
      "text/markdown": [
       "32"
      ],
      "text/plain": [
       "[1] 32"
      ]
     },
     "metadata": {},
     "output_type": "display_data"
    }
   ],
   "source": [
    "nrow(mtcars)"
   ]
  },
  {
   "cell_type": "code",
   "execution_count": 35,
   "id": "dc266d30",
   "metadata": {},
   "outputs": [],
   "source": [
    "n = nrow(mtcars)\n",
    "trainIndex = sample(1:n, size = round(0.8*n), replace=FALSE)\n",
    "train = mtcars[trainIndex , 1:7]\n",
    "test = mtcars[-trainIndex , 1:7]"
   ]
  },
  {
   "cell_type": "code",
   "execution_count": 37,
   "id": "58792399",
   "metadata": {},
   "outputs": [
    {
     "data": {
      "text/html": [
       "26"
      ],
      "text/latex": [
       "26"
      ],
      "text/markdown": [
       "26"
      ],
      "text/plain": [
       "[1] 26"
      ]
     },
     "metadata": {},
     "output_type": "display_data"
    },
    {
     "data": {
      "text/html": [
       "6"
      ],
      "text/latex": [
       "6"
      ],
      "text/markdown": [
       "6"
      ],
      "text/plain": [
       "[1] 6"
      ]
     },
     "metadata": {},
     "output_type": "display_data"
    }
   ],
   "source": [
    "nrow(train)\n",
    "nrow(test)"
   ]
  },
  {
   "cell_type": "markdown",
   "id": "0304f947",
   "metadata": {},
   "source": [
    "##### Going back to file and variable names, choose meaningful and concise names!"
   ]
  },
  {
   "cell_type": "code",
   "execution_count": 46,
   "id": "07625fa6",
   "metadata": {},
   "outputs": [],
   "source": [
    "write.csv(train, \"C:\\\\Users\\\\SarahS\\\\Desktop\\\\Reproducibility\\\\mtcarstrain.csv\")\n",
    "write.csv(test, \"C:\\\\Users\\\\SarahS\\\\Desktop\\\\Reproducibility\\\\mtcarstest.csv\")"
   ]
  },
  {
   "cell_type": "markdown",
   "id": "333d0b12",
   "metadata": {},
   "source": [
    "## Tip # 4\n",
    "##### Use functions instead of repeating code to avoid duplication and minimize possibilities of error"
   ]
  },
  {
   "cell_type": "code",
   "execution_count": 15,
   "id": "64fe0c43",
   "metadata": {},
   "outputs": [],
   "source": [
    "#Calculate the hypotenuse\n",
    "hypotenuse<-function(a,b){\n",
    "    print(sqrt(a^2+b^2))\n",
    "}"
   ]
  },
  {
   "cell_type": "code",
   "execution_count": 17,
   "id": "e0990c52",
   "metadata": {},
   "outputs": [
    {
     "name": "stdout",
     "output_type": "stream",
     "text": [
      "[1] 6.324555\n"
     ]
    }
   ],
   "source": [
    "side1 = 3\n",
    "side2 = 4\n",
    "hyp = hypotenuse(side1,side2)"
   ]
  },
  {
   "cell_type": "code",
   "execution_count": 18,
   "id": "fb16cbf8",
   "metadata": {},
   "outputs": [
    {
     "name": "stdout",
     "output_type": "stream",
     "text": [
      "[1] 7.28011\n"
     ]
    }
   ],
   "source": [
    "sidea = 7\n",
    "sideb = 2\n",
    "hyp_a = hypotenuse(sidea,sideb)"
   ]
  },
  {
   "cell_type": "markdown",
   "id": "292dbbe5",
   "metadata": {},
   "source": [
    "## Tip # 5\n",
    "###### Using random numbers? Set a seed so you always get the same output"
   ]
  },
  {
   "cell_type": "code",
   "execution_count": 47,
   "id": "2d61d60b",
   "metadata": {},
   "outputs": [
    {
     "data": {
      "text/html": [
       "<ol class=list-inline>\n",
       "\t<li>-2.10086994907059</li>\n",
       "\t<li>0.941812581121006</li>\n",
       "\t<li>0.0922375085206626</li>\n",
       "\t<li>-0.126153553785817</li>\n",
       "\t<li>-1.98776088770326</li>\n",
       "\t<li>0.590511515009577</li>\n",
       "\t<li>-0.98194995535356</li>\n",
       "\t<li>-0.874417042612833</li>\n",
       "\t<li>-0.101440196999433</li>\n",
       "\t<li>1.10798296300557</li>\n",
       "</ol>\n"
      ],
      "text/latex": [
       "\\begin{enumerate*}\n",
       "\\item -2.10086994907059\n",
       "\\item 0.941812581121006\n",
       "\\item 0.0922375085206626\n",
       "\\item -0.126153553785817\n",
       "\\item -1.98776088770326\n",
       "\\item 0.590511515009577\n",
       "\\item -0.98194995535356\n",
       "\\item -0.874417042612833\n",
       "\\item -0.101440196999433\n",
       "\\item 1.10798296300557\n",
       "\\end{enumerate*}\n"
      ],
      "text/markdown": [
       "1. -2.10086994907059\n",
       "2. 0.941812581121006\n",
       "3. 0.0922375085206626\n",
       "4. -0.126153553785817\n",
       "5. -1.98776088770326\n",
       "6. 0.590511515009577\n",
       "7. -0.98194995535356\n",
       "8. -0.874417042612833\n",
       "9. -0.101440196999433\n",
       "10. 1.10798296300557\n",
       "\n",
       "\n"
      ],
      "text/plain": [
       " [1] -2.10086995  0.94181258  0.09223751 -0.12615355 -1.98776089  0.59051152\n",
       " [7] -0.98194996 -0.87441704 -0.10144020  1.10798296"
      ]
     },
     "metadata": {},
     "output_type": "display_data"
    }
   ],
   "source": [
    "rnorm(10) # The numbers change every time you run the cell"
   ]
  },
  {
   "cell_type": "code",
   "execution_count": 13,
   "id": "f872c916",
   "metadata": {},
   "outputs": [
    {
     "data": {
      "text/html": [
       "<ol class=list-inline>\n",
       "\t<li>0.21396250218488</li>\n",
       "\t<li>0.479658134570875</li>\n",
       "\t<li>0.0878287049737438</li>\n",
       "\t<li>0.443858507494784</li>\n",
       "\t<li>-0.362837920519174</li>\n",
       "\t<li>0.122674029524872</li>\n",
       "\t<li>-0.863845188144844</li>\n",
       "\t<li>0.489624266692369</li>\n",
       "\t<li>-0.364116912546662</li>\n",
       "\t<li>-1.29424200668192</li>\n",
       "</ol>\n"
      ],
      "text/latex": [
       "\\begin{enumerate*}\n",
       "\\item 0.21396250218488\n",
       "\\item 0.479658134570875\n",
       "\\item 0.0878287049737438\n",
       "\\item 0.443858507494784\n",
       "\\item -0.362837920519174\n",
       "\\item 0.122674029524872\n",
       "\\item -0.863845188144844\n",
       "\\item 0.489624266692369\n",
       "\\item -0.364116912546662\n",
       "\\item -1.29424200668192\n",
       "\\end{enumerate*}\n"
      ],
      "text/markdown": [
       "1. 0.21396250218488\n",
       "2. 0.479658134570875\n",
       "3. 0.0878287049737438\n",
       "4. 0.443858507494784\n",
       "5. -0.362837920519174\n",
       "6. 0.122674029524872\n",
       "7. -0.863845188144844\n",
       "8. 0.489624266692369\n",
       "9. -0.364116912546662\n",
       "10. -1.29424200668192\n",
       "\n",
       "\n"
      ],
      "text/plain": [
       " [1]  0.2139625  0.4796581  0.0878287  0.4438585 -0.3628379  0.1226740\n",
       " [7] -0.8638452  0.4896243 -0.3641169 -1.2942420"
      ]
     },
     "metadata": {},
     "output_type": "display_data"
    }
   ],
   "source": [
    "set.seed(99)\n",
    "rnorm(10)\n",
    "#Same output with seed"
   ]
  },
  {
   "cell_type": "code",
   "execution_count": null,
   "id": "2384328e",
   "metadata": {},
   "outputs": [],
   "source": []
  },
  {
   "cell_type": "code",
   "execution_count": null,
   "id": "ef2c6c9e",
   "metadata": {},
   "outputs": [],
   "source": []
  }
 ],
 "metadata": {
  "kernelspec": {
   "display_name": "R",
   "language": "R",
   "name": "ir"
  },
  "language_info": {
   "codemirror_mode": "r",
   "file_extension": ".r",
   "mimetype": "text/x-r-source",
   "name": "R",
   "pygments_lexer": "r",
   "version": "3.6.1"
  }
 },
 "nbformat": 4,
 "nbformat_minor": 5
}
